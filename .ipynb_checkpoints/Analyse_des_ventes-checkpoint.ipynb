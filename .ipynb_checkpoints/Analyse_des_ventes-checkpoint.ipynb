{
 "cells": [
  {
   "cell_type": "markdown",
   "id": "56c685f6",
   "metadata": {},
   "source": [
    "## Import libraries"
   ]
  },
  {
   "cell_type": "code",
   "execution_count": 1,
   "id": "fee16ddb",
   "metadata": {},
   "outputs": [],
   "source": [
    "import pandas as pd\n",
    "import numpy as np\n",
    "import matplotlib.pyplot as plt\n",
    "import seaborn as sns"
   ]
  },
  {
   "cell_type": "markdown",
   "id": "f1c2adce",
   "metadata": {},
   "source": [
    "## Load and read datas"
   ]
  },
  {
   "cell_type": "code",
   "execution_count": 13,
   "id": "6aab1868",
   "metadata": {},
   "outputs": [
    {
     "data": {
      "text/html": [
       "<div>\n",
       "<style scoped>\n",
       "    .dataframe tbody tr th:only-of-type {\n",
       "        vertical-align: middle;\n",
       "    }\n",
       "\n",
       "    .dataframe tbody tr th {\n",
       "        vertical-align: top;\n",
       "    }\n",
       "\n",
       "    .dataframe thead th {\n",
       "        text-align: right;\n",
       "    }\n",
       "</style>\n",
       "<table border=\"1\" class=\"dataframe\">\n",
       "  <thead>\n",
       "    <tr style=\"text-align: right;\">\n",
       "      <th></th>\n",
       "      <th>month_number</th>\n",
       "      <th>facecream</th>\n",
       "      <th>facewash</th>\n",
       "      <th>toothpaste</th>\n",
       "      <th>bathingsoap</th>\n",
       "      <th>shampoo</th>\n",
       "      <th>moisturizer</th>\n",
       "      <th>total_units</th>\n",
       "      <th>total_profit</th>\n",
       "    </tr>\n",
       "  </thead>\n",
       "  <tbody>\n",
       "    <tr>\n",
       "      <th>0</th>\n",
       "      <td>1</td>\n",
       "      <td>2500</td>\n",
       "      <td>1500</td>\n",
       "      <td>5200</td>\n",
       "      <td>9200</td>\n",
       "      <td>1200</td>\n",
       "      <td>1500</td>\n",
       "      <td>21100</td>\n",
       "      <td>211000</td>\n",
       "    </tr>\n",
       "    <tr>\n",
       "      <th>1</th>\n",
       "      <td>2</td>\n",
       "      <td>2630</td>\n",
       "      <td>1200</td>\n",
       "      <td>5100</td>\n",
       "      <td>6100</td>\n",
       "      <td>2100</td>\n",
       "      <td>1200</td>\n",
       "      <td>18330</td>\n",
       "      <td>183300</td>\n",
       "    </tr>\n",
       "    <tr>\n",
       "      <th>2</th>\n",
       "      <td>3</td>\n",
       "      <td>2140</td>\n",
       "      <td>1340</td>\n",
       "      <td>4550</td>\n",
       "      <td>9550</td>\n",
       "      <td>3550</td>\n",
       "      <td>1340</td>\n",
       "      <td>22470</td>\n",
       "      <td>224700</td>\n",
       "    </tr>\n",
       "    <tr>\n",
       "      <th>3</th>\n",
       "      <td>4</td>\n",
       "      <td>3400</td>\n",
       "      <td>1130</td>\n",
       "      <td>5870</td>\n",
       "      <td>8870</td>\n",
       "      <td>1870</td>\n",
       "      <td>1130</td>\n",
       "      <td>22270</td>\n",
       "      <td>222700</td>\n",
       "    </tr>\n",
       "    <tr>\n",
       "      <th>4</th>\n",
       "      <td>5</td>\n",
       "      <td>3600</td>\n",
       "      <td>1740</td>\n",
       "      <td>4560</td>\n",
       "      <td>7760</td>\n",
       "      <td>1560</td>\n",
       "      <td>1740</td>\n",
       "      <td>20960</td>\n",
       "      <td>209600</td>\n",
       "    </tr>\n",
       "    <tr>\n",
       "      <th>5</th>\n",
       "      <td>6</td>\n",
       "      <td>2760</td>\n",
       "      <td>1555</td>\n",
       "      <td>4890</td>\n",
       "      <td>7490</td>\n",
       "      <td>1890</td>\n",
       "      <td>1555</td>\n",
       "      <td>20140</td>\n",
       "      <td>201400</td>\n",
       "    </tr>\n",
       "    <tr>\n",
       "      <th>6</th>\n",
       "      <td>7</td>\n",
       "      <td>2980</td>\n",
       "      <td>1120</td>\n",
       "      <td>4780</td>\n",
       "      <td>8980</td>\n",
       "      <td>1780</td>\n",
       "      <td>1120</td>\n",
       "      <td>29550</td>\n",
       "      <td>295500</td>\n",
       "    </tr>\n",
       "    <tr>\n",
       "      <th>7</th>\n",
       "      <td>8</td>\n",
       "      <td>3700</td>\n",
       "      <td>1400</td>\n",
       "      <td>5860</td>\n",
       "      <td>9960</td>\n",
       "      <td>2860</td>\n",
       "      <td>1400</td>\n",
       "      <td>36140</td>\n",
       "      <td>361400</td>\n",
       "    </tr>\n",
       "    <tr>\n",
       "      <th>8</th>\n",
       "      <td>9</td>\n",
       "      <td>3540</td>\n",
       "      <td>1780</td>\n",
       "      <td>6100</td>\n",
       "      <td>8100</td>\n",
       "      <td>2100</td>\n",
       "      <td>1780</td>\n",
       "      <td>23400</td>\n",
       "      <td>234000</td>\n",
       "    </tr>\n",
       "    <tr>\n",
       "      <th>9</th>\n",
       "      <td>10</td>\n",
       "      <td>1990</td>\n",
       "      <td>1890</td>\n",
       "      <td>8300</td>\n",
       "      <td>10300</td>\n",
       "      <td>2300</td>\n",
       "      <td>1890</td>\n",
       "      <td>26670</td>\n",
       "      <td>266700</td>\n",
       "    </tr>\n",
       "    <tr>\n",
       "      <th>10</th>\n",
       "      <td>11</td>\n",
       "      <td>2340</td>\n",
       "      <td>2100</td>\n",
       "      <td>7300</td>\n",
       "      <td>13300</td>\n",
       "      <td>2400</td>\n",
       "      <td>2100</td>\n",
       "      <td>41280</td>\n",
       "      <td>412800</td>\n",
       "    </tr>\n",
       "    <tr>\n",
       "      <th>11</th>\n",
       "      <td>12</td>\n",
       "      <td>2900</td>\n",
       "      <td>1760</td>\n",
       "      <td>7400</td>\n",
       "      <td>14400</td>\n",
       "      <td>1800</td>\n",
       "      <td>1760</td>\n",
       "      <td>30020</td>\n",
       "      <td>300200</td>\n",
       "    </tr>\n",
       "  </tbody>\n",
       "</table>\n",
       "</div>"
      ],
      "text/plain": [
       "    month_number  facecream  facewash  toothpaste  bathingsoap  shampoo  \\\n",
       "0              1       2500      1500        5200         9200     1200   \n",
       "1              2       2630      1200        5100         6100     2100   \n",
       "2              3       2140      1340        4550         9550     3550   \n",
       "3              4       3400      1130        5870         8870     1870   \n",
       "4              5       3600      1740        4560         7760     1560   \n",
       "5              6       2760      1555        4890         7490     1890   \n",
       "6              7       2980      1120        4780         8980     1780   \n",
       "7              8       3700      1400        5860         9960     2860   \n",
       "8              9       3540      1780        6100         8100     2100   \n",
       "9             10       1990      1890        8300        10300     2300   \n",
       "10            11       2340      2100        7300        13300     2400   \n",
       "11            12       2900      1760        7400        14400     1800   \n",
       "\n",
       "    moisturizer  total_units  total_profit  \n",
       "0          1500        21100        211000  \n",
       "1          1200        18330        183300  \n",
       "2          1340        22470        224700  \n",
       "3          1130        22270        222700  \n",
       "4          1740        20960        209600  \n",
       "5          1555        20140        201400  \n",
       "6          1120        29550        295500  \n",
       "7          1400        36140        361400  \n",
       "8          1780        23400        234000  \n",
       "9          1890        26670        266700  \n",
       "10         2100        41280        412800  \n",
       "11         1760        30020        300200  "
      ]
     },
     "execution_count": 13,
     "metadata": {},
     "output_type": "execute_result"
    }
   ],
   "source": [
    "df = pd.read_csv(\"./company_sales_data.csv\")\n",
    "df"
   ]
  },
  {
   "cell_type": "markdown",
   "id": "1dd73d71",
   "metadata": {},
   "source": [
    "# Graphe 1"
   ]
  },
  {
   "cell_type": "code",
   "execution_count": 21,
   "id": "b6792130",
   "metadata": {
    "scrolled": true
   },
   "outputs": [
    {
     "data": {
      "image/png": "[encoded data removed]",
      "text/plain": [
       "<Figure size 432x288 with 1 Axes>"
      ]
     },
     "metadata": {
      "needs_background": "light"
     },
     "output_type": "display_data"
    }
   ],
   "source": [
    "# L'axe des abscisses va de 0 à 50 et s'intitule \"Axe des x\"\n",
    "x = [0,50]\n",
    "# L'axe des ordonnées s'intitule \"Axe des y\"\n",
    "y= [0,100]\n",
    "\n",
    "# Le graphe possède le titre suivant \"Tracer une droite\" et la droite est de couleur rouge.\n",
    "plt.xlabel(\"Tracer une droite\")\n",
    "\n",
    "# Tracer la droite d'équation : x = 3y. Avec x allant de 0 à 50\n",
    "plt.plot(x, y, color=\"C3\", linewidth =1,linestyle=\"-\")\n",
    "plt.show()\n"
   ]
  },
  {
   "cell_type": "markdown",
   "id": "e7614f63",
   "metadata": {},
   "source": [
    "# Graphe 2"
   ]
  },
  {
   "cell_type": "code",
   "execution_count": 27,
   "id": "c7a91f83",
   "metadata": {},
   "outputs": [
    {
     "data": {
      "image/png": "[encoded data removed]",
      "text/plain": [
       "<Figure size 432x288 with 1 Axes>"
      ]
     },
     "metadata": {
      "needs_background": "light"
     },
     "output_type": "display_data"
    }
   ],
   "source": [
    "# Profit total mensuel\n",
    "plt.plot(df.month_number, df.total_profit)\n",
    "plt.title('Profit / Mois')\n",
    "plt.show()"
   ]
  },
  {
   "cell_type": "markdown",
   "id": "26ba3e2f",
   "metadata": {},
   "source": [
    "# Graphe 3"
   ]
  },
  {
   "cell_type": "code",
   "execution_count": 29,
   "id": "e83680f7",
   "metadata": {},
   "outputs": [
    {
     "data": {
      "text/plain": [
       "[<matplotlib.lines.Line2D at 0x7fae8b390730>]"
      ]
     },
     "execution_count": 29,
     "metadata": {},
     "output_type": "execute_result"
    },
    {
     "data": {
      "image/png": "[encoded data removed]",
      "text/plain": [
       "<Figure size 432x288 with 1 Axes>"
      ]
     },
     "metadata": {
      "needs_background": "light"
     },
     "output_type": "display_data"
    }
   ],
   "source": [
    "# Profit pour chaque produit, en fonction du temps\n",
    "plt.plot(df.month_number, df.facecream)\n",
    "plt.plot(df.month_number, df.facewash)\n",
    "plt.plot(df.month_number, df.toothpaste)\n",
    "plt.plot(df.month_number, df.bathingsoap)\n",
    "plt.plot(df.month_number, df.shampoo)\n",
    "plt.plot(df.month_number, df.moisturizer)\n",
    "\n",
    "# Mettre une légende"
   ]
  },
  {
   "cell_type": "markdown",
   "id": "bf2fd5e8",
   "metadata": {},
   "source": [
    "# Graphe 4"
   ]
  },
  {
   "cell_type": "code",
   "execution_count": null,
   "id": "d6ef646c",
   "metadata": {},
   "outputs": [],
   "source": [
    "# Comparaison des unités vendues chaque mois par produit\n",
    "# Représentation du produit le plus vendu\n"
   ]
  },
  {
   "cell_type": "markdown",
   "id": "e73d963b",
   "metadata": {},
   "source": [
    "# Graphe 5"
   ]
  },
  {
   "cell_type": "code",
   "execution_count": null,
   "id": "952108e2",
   "metadata": {},
   "outputs": [],
   "source": [
    "# Contribution de chaque produit dans le profit total annuel, en %\n"
   ]
  },
  {
   "cell_type": "markdown",
   "id": "ee03dbeb",
   "metadata": {},
   "source": [
    "# Graphe 6"
   ]
  },
  {
   "cell_type": "code",
   "execution_count": null,
   "id": "16bcdfe6",
   "metadata": {},
   "outputs": [],
   "source": [
    "# Analyse des 3 fichiers csv qui donnent les ventes, la liste des clients et la liste des produits.\n",
    "# Graphe pie chart qui donne la répartition des produits par catégorie.\n",
    "# Soit (nb de produits de telle catégorie / nb de produits totaux)\n"
   ]
  },
  {
   "cell_type": "markdown",
   "id": "1cbdfd79",
   "metadata": {},
   "source": [
    "# Graphe 7"
   ]
  },
  {
   "cell_type": "code",
   "execution_count": null,
   "id": "95aaccb4",
   "metadata": {},
   "outputs": [],
   "source": [
    "# Evolution du CA pour chaque catégorie"
   ]
  },
  {
   "cell_type": "markdown",
   "id": "0c78c1ba",
   "metadata": {},
   "source": [
    "# Graphe 8"
   ]
  },
  {
   "cell_type": "code",
   "execution_count": null,
   "id": "5a576f71",
   "metadata": {},
   "outputs": [],
   "source": [
    "# Boxplot de la répartion des prix d'un produit pour chaque catégorie\n",
    "# Soit 3 boxplots (catégories 0,1,2)\n"
   ]
  },
  {
   "cell_type": "markdown",
   "id": "10d37230",
   "metadata": {},
   "source": [
    "# Graphe 9"
   ]
  },
  {
   "cell_type": "code",
   "execution_count": null,
   "id": "c6469e81",
   "metadata": {},
   "outputs": [],
   "source": [
    "# Répartition du CA, pour chaque mois, en fonction du genre du client.\n"
   ]
  },
  {
   "cell_type": "markdown",
   "id": "0d36c9ea",
   "metadata": {},
   "source": [
    "# Graphe 10"
   ]
  },
  {
   "cell_type": "code",
   "execution_count": null,
   "id": "96a4b53b",
   "metadata": {},
   "outputs": [],
   "source": [
    "# Représentation pour chaque transaction, lie tranche d'âge du client et montant de la transaction.\n"
   ]
  },
  {
   "cell_type": "markdown",
   "id": "595b799e",
   "metadata": {},
   "source": [
    "# Graphe 11"
   ]
  },
  {
   "cell_type": "code",
   "execution_count": null,
   "id": "c5e20354",
   "metadata": {},
   "outputs": [],
   "source": [
    "# Représentation pour chaque article, lie prix et nombre d'articles vendus pendant la période.\n"
   ]
  },
  {
   "cell_type": "markdown",
   "id": "6c92f52c",
   "metadata": {},
   "source": [
    "# Graphe 12"
   ]
  },
  {
   "cell_type": "code",
   "execution_count": null,
   "id": "2bb16522",
   "metadata": {},
   "outputs": [],
   "source": [
    "# Répartition du panier moyen (à chaque transaction).\n"
   ]
  },
  {
   "cell_type": "markdown",
   "id": "5a1b1aed",
   "metadata": {},
   "source": [
    "# Graphe autre"
   ]
  },
  {
   "cell_type": "code",
   "execution_count": null,
   "id": "b434deb0",
   "metadata": {},
   "outputs": [],
   "source": [
    "# 3 autres graphes qui peuvent être utiles à la compréhension des ventes de la chaîne de librairies.\n"
   ]
  },
  {
   "cell_type": "code",
   "execution_count": null,
   "id": "8ba45133",
   "metadata": {},
   "outputs": [],
   "source": []
  },
  {
   "cell_type": "code",
   "execution_count": null,
   "id": "01407f0f",
   "metadata": {},
   "outputs": [],
   "source": []
  },
  {
   "cell_type": "code",
   "execution_count": null,
   "id": "2e95801c",
   "metadata": {},
   "outputs": [],
   "source": []
  }
 ],
 "metadata": {
  "kernelspec": {
   "display_name": "Python 3",
   "language": "python",
   "name": "python3"
  },
  "language_info": {
   "codemirror_mode": {
    "name": "ipython",
    "version": 3
   },
   "file_extension": ".py",
   "mimetype": "text/x-python",
   "name": "python",
   "nbconvert_exporter": "python",
   "pygments_lexer": "ipython3",
   "version": "3.8.8"
  }
 },
 "nbformat": 4,
 "nbformat_minor": 5
}
